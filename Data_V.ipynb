{
  "cells": [
    {
      "cell_type": "markdown",
      "metadata": {
        "id": "view-in-github",
        "colab_type": "text"
      },
      "source": [
        "<a href=\"https://colab.research.google.com/github/KorvenDalas/w1834001_DataVisualisation_Y6/blob/main/Data_V.ipynb\" target=\"_parent\"><img src=\"https://colab.research.google.com/assets/colab-badge.svg\" alt=\"Open In Colab\"/></a>"
      ]
    },
    {
      "cell_type": "code",
      "execution_count": null,
      "metadata": {
        "colab": {
          "base_uri": "https://localhost:8080/"
        },
        "id": "jDeYkZveRbtu",
        "outputId": "15621740-435a-4fac-fb03-cb61af634d5a"
      },
      "outputs": [
        {
          "output_type": "stream",
          "name": "stdout",
          "text": [
            "All London PM25.xlsm\n",
            "All London NO2.xlsm\n"
          ]
        }
      ],
      "source": [
        "# w1834001 Data Visualisation\n",
        "\n",
        "import os\n",
        "\n",
        "def list_files_in_folder(folder_path):\n",
        "    # Initialize an empty list to store file names\n",
        "    file_list = []\n",
        "\n",
        "    # Iterate over all the files in the folder\n",
        "    for file_name in os.listdir(folder_path):\n",
        "        # Check if the file is a regular file (not a directory)\n",
        "        if os.path.isfile(os.path.join(folder_path, file_name)):\n",
        "            # Add the file name to the list\n",
        "            file_list.append(file_name)\n",
        "\n",
        "    return file_list\n",
        "\n",
        "# Provide the path to the folder you want to list the files of\n",
        "folder_path = '/content/Datasets_Boroughs'\n",
        "files = list_files_in_folder(folder_path)\n",
        "for file in files:\n",
        "    print(file)"
      ]
    },
    {
      "cell_type": "code",
      "execution_count": null,
      "metadata": {
        "id": "T_HYhpBjpOgR"
      },
      "outputs": [],
      "source": [
        "import openpyxl\n",
        "\n",
        "def add_particle_column(file_name):\n",
        "    # Load the workbook\n",
        "    workbook = openpyxl.load_workbook(file_name, keep_vba = True)\n",
        "\n",
        "    for sheet_name in workbook.sheetnames:\n",
        "        sheet = workbook[sheet_name]\n",
        "\n",
        "        # Insert two new columns at the beginning\n",
        "        sheet.insert_cols(1)\n",
        "        sheet.insert_cols(1)\n",
        "\n",
        "        # Set the header for the new columns\n",
        "        sheet['A1'] = 'Borough'\n",
        "        sheet['B1'] = 'Particle'\n",
        "\n",
        "        # Fill the new columns\n",
        "        if 'NO2' in file_name:\n",
        "            borough, particle = file_name.split(\" NO2\")\n",
        "            particle = \"NO2\"\n",
        "            for row in range(2, sheet.max_row + 1):\n",
        "                sheet[f'A{row}'] = borough\n",
        "                sheet[f'B{row}'] = particle\n",
        "        else:\n",
        "            borough, particle = file_name.split(\" PM25\")\n",
        "            particle = \"PM25\"\n",
        "            for row in range(2, sheet.max_row + 1):\n",
        "                sheet[f'A{row}'] = borough\n",
        "                sheet[f'B{row}'] = particle\n",
        "\n",
        "    # Save the workbook\n",
        "    workbook.save(file_name)\n",
        "\n",
        "os.chdir('/content/Datasets_Boroughs')\n",
        "\n",
        "for file in files:\n",
        "    add_particle_column(file)"
      ]
    },
    {
      "cell_type": "code",
      "source": [
        "import pandas as pd\n",
        "\n",
        "# Function to read all sheets from an Excel file into a dictionary\n",
        "def read_excel_sheets(filename):\n",
        "    with pd.ExcelFile(filename) as xls:\n",
        "        return {sheet_name: xls.parse(sheet_name) for sheet_name in xls.sheet_names}\n",
        "\n",
        "# Reading all sheets from all files into a dictionary of DataFrames\n",
        "all_data = {}\n",
        "for file in files:\n",
        "    file_data = read_excel_sheets(file)\n",
        "    for sheet_name, df in file_data.items():\n",
        "        # Concatenate the DataFrames from the same sheet across all files\n",
        "        if sheet_name in all_data:\n",
        "            all_data[sheet_name] = pd.concat([all_data[sheet_name], df])\n",
        "        else:\n",
        "            all_data[sheet_name] = df\n",
        "\n",
        "# Create a new Excel writer object\n",
        "with pd.ExcelWriter('_London_all.xlsx', engine = 'openpyxl') as writer:\n",
        "    # Write each combined DataFrame to a separate sheet in the new Excel file\n",
        "    for sheet_name, df in all_data.items():\n",
        "        df.to_excel(writer, sheet_name = sheet_name, index = False)"
      ],
      "metadata": {
        "id": "rMCpd_IivsRV"
      },
      "execution_count": null,
      "outputs": []
    },
    {
      "cell_type": "code",
      "source": [
        "# current_directory = os.getcwd()\n",
        "\n",
        "# # List all files and directories in the current directory\n",
        "# items_in_directory = os.listdir(current_directory)\n",
        "\n",
        "# # Loop through the items and remove each one\n",
        "# for item in items_in_directory:\n",
        "#     item_path = os.path.join(current_directory, item)\n",
        "#     if os.path.isfile(item_path):\n",
        "#         os.remove(item_path)\n",
        "#     elif os.path.isdir(item_path):\n",
        "#         shutil.rmtree(item_path)"
      ],
      "metadata": {
        "id": "C0YwZjs81_-Y"
      },
      "execution_count": null,
      "outputs": []
    }
  ],
  "metadata": {
    "colab": {
      "provenance": [],
      "authorship_tag": "ABX9TyPkOBJvpN5mu/u4umHEMTAh",
      "include_colab_link": true
    },
    "kernelspec": {
      "display_name": "Python 3",
      "name": "python3"
    },
    "language_info": {
      "name": "python"
    }
  },
  "nbformat": 4,
  "nbformat_minor": 0
}